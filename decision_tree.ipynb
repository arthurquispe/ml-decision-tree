{
 "cells": [
  {
   "cell_type": "markdown",
   "id": "bb2edb14",
   "metadata": {},
   "source": [
    "# Decision Tree"
   ]
  },
  {
   "cell_type": "code",
   "execution_count": 1,
   "id": "74543945",
   "metadata": {},
   "outputs": [],
   "source": [
    "# import sklearn\n",
    "from sklearn.tree import DecisionTreeClassifier\n",
    "from sklearn.datasets import load_breast_cancer # load...\n",
    "from sklearn.metrics import accuracy_score\n",
    "from sklearn.model_selection import train_test_split,  cross_validate\n",
    "# import pandas\n",
    "import pandas as pd"
   ]
  },
  {
   "cell_type": "code",
   "execution_count": null,
   "id": "cbcb392f",
   "metadata": {},
   "outputs": [],
   "source": [
    "from sklearn import datasets\n",
    "dir(datasets)"
   ]
  },
  {
   "cell_type": "code",
   "execution_count": null,
   "metadata": {},
   "outputs": [
    {
     "name": "stdout",
     "output_type": "stream",
     "text": [
      "['mean radius' 'mean texture' 'mean perimeter' 'mean area'\n",
      " 'mean smoothness' 'mean compactness' 'mean concavity'\n",
      " 'mean concave points' 'mean symmetry' 'mean fractal dimension'\n",
      " 'radius error' 'texture error' 'perimeter error' 'area error'\n",
      " 'smoothness error' 'compactness error' 'concavity error'\n",
      " 'concave points error' 'symmetry error' 'fractal dimension error'\n",
      " 'worst radius' 'worst texture' 'worst perimeter' 'worst area'\n",
      " 'worst smoothness' 'worst compactness' 'worst concavity'\n",
      " 'worst concave points' 'worst symmetry' 'worst fractal dimension']\n",
      "['malignant' 'benign']\n"
     ]
    }
   ],
   "source": [
    "bc = load_breast_cancer(as_frame=True)\n",
    "# print(bc.DESCR) (Nombre de las variables)\n",
    "print(bc.feature_names)\n",
    "# Ver los nombres de las clases (0,1)\n",
    "print(bc.target_names) # 0 malignant 1 benignprint(bc.target_names) # 0 malignant 1 benign\n",
    "# Convvert to dataframe\n",
    "df_bc = pd.DataFrame(data=bc.data)\n",
    "df_bc['target'] = bc.target\n",
    "# convert to categorical\n",
    "df_bc['target'] = df_bc['target'].astype('category')"
   ]
  },
  {
   "cell_type": "code",
   "execution_count": null,
   "id": "ce90ea37",
   "metadata": {},
   "outputs": [
    {
     "name": "stdout",
     "output_type": "stream",
     "text": [
      "   mean radius  mean texture  mean perimeter  mean area  mean smoothness  \\\n",
      "0        17.99         10.38          122.80     1001.0          0.11840   \n",
      "1        20.57         17.77          132.90     1326.0          0.08474   \n",
      "2        19.69         21.25          130.00     1203.0          0.10960   \n",
      "3        11.42         20.38           77.58      386.1          0.14250   \n",
      "4        20.29         14.34          135.10     1297.0          0.10030   \n",
      "\n",
      "   mean compactness  mean concavity  mean concave points  mean symmetry  \\\n",
      "0           0.27760          0.3001              0.14710         0.2419   \n",
      "1           0.07864          0.0869              0.07017         0.1812   \n",
      "2           0.15990          0.1974              0.12790         0.2069   \n",
      "3           0.28390          0.2414              0.10520         0.2597   \n",
      "4           0.13280          0.1980              0.10430         0.1809   \n",
      "\n",
      "   mean fractal dimension  ...  worst texture  worst perimeter  worst area  \\\n",
      "0                 0.07871  ...          17.33           184.60      2019.0   \n",
      "1                 0.05667  ...          23.41           158.80      1956.0   \n",
      "2                 0.05999  ...          25.53           152.50      1709.0   \n",
      "3                 0.09744  ...          26.50            98.87       567.7   \n",
      "4                 0.05883  ...          16.67           152.20      1575.0   \n",
      "\n",
      "   worst smoothness  worst compactness  worst concavity  worst concave points  \\\n",
      "0            0.1622             0.6656           0.7119                0.2654   \n",
      "1            0.1238             0.1866           0.2416                0.1860   \n",
      "2            0.1444             0.4245           0.4504                0.2430   \n",
      "3            0.2098             0.8663           0.6869                0.2575   \n",
      "4            0.1374             0.2050           0.4000                0.1625   \n",
      "\n",
      "   worst symmetry  worst fractal dimension  target  \n",
      "0          0.4601                  0.11890       0  \n",
      "1          0.2750                  0.08902       0  \n",
      "2          0.3613                  0.08758       0  \n",
      "3          0.6638                  0.17300       0  \n",
      "4          0.2364                  0.07678       0  \n",
      "\n",
      "[5 rows x 31 columns]\n",
      "<class 'pandas.core.frame.DataFrame'>\n",
      "RangeIndex: 569 entries, 0 to 568\n",
      "Data columns (total 31 columns):\n",
      " #   Column                   Non-Null Count  Dtype   \n",
      "---  ------                   --------------  -----   \n",
      " 0   mean radius              569 non-null    float64 \n",
      " 1   mean texture             569 non-null    float64 \n",
      " 2   mean perimeter           569 non-null    float64 \n",
      " 3   mean area                569 non-null    float64 \n",
      " 4   mean smoothness          569 non-null    float64 \n",
      " 5   mean compactness         569 non-null    float64 \n",
      " 6   mean concavity           569 non-null    float64 \n",
      " 7   mean concave points      569 non-null    float64 \n",
      " 8   mean symmetry            569 non-null    float64 \n",
      " 9   mean fractal dimension   569 non-null    float64 \n",
      " 10  radius error             569 non-null    float64 \n",
      " 11  texture error            569 non-null    float64 \n",
      " 12  perimeter error          569 non-null    float64 \n",
      " 13  area error               569 non-null    float64 \n",
      " 14  smoothness error         569 non-null    float64 \n",
      " 15  compactness error        569 non-null    float64 \n",
      " 16  concavity error          569 non-null    float64 \n",
      " 17  concave points error     569 non-null    float64 \n",
      " 18  symmetry error           569 non-null    float64 \n",
      " 19  fractal dimension error  569 non-null    float64 \n",
      " 20  worst radius             569 non-null    float64 \n",
      " 21  worst texture            569 non-null    float64 \n",
      " 22  worst perimeter          569 non-null    float64 \n",
      " 23  worst area               569 non-null    float64 \n",
      " 24  worst smoothness         569 non-null    float64 \n",
      " 25  worst compactness        569 non-null    float64 \n",
      " 26  worst concavity          569 non-null    float64 \n",
      " 27  worst concave points     569 non-null    float64 \n",
      " 28  worst symmetry           569 non-null    float64 \n",
      " 29  worst fractal dimension  569 non-null    float64 \n",
      " 30  target                   569 non-null    category\n",
      "dtypes: category(1), float64(30)\n",
      "memory usage: 134.2 KB\n",
      "None\n"
     ]
    }
   ],
   "source": [
    "# print(df_bc.head())\n",
    "print(df_bc.info())"
   ]
  },
  {
   "cell_type": "code",
   "execution_count": 22,
   "id": "ad60ff52",
   "metadata": {},
   "outputs": [
    {
     "name": "stdout",
     "output_type": "stream",
     "text": [
      "(569, 31)\n"
     ]
    },
    {
     "name": "stderr",
     "output_type": "stream",
     "text": [
      "C:\\Users\\arthu\\AppData\\Local\\Temp\\ipykernel_27388\\718724224.py:3: FutureWarning: The default of observed=False is deprecated and will be changed to True in a future version of pandas. Pass observed=False to retain current behavior or observed=True to adopt the future default and silence this warning.\n",
      "  df_bc.groupby('target').size()\n"
     ]
    },
    {
     "data": {
      "text/plain": [
       "target\n",
       "1    0.627417\n",
       "0    0.372583\n",
       "Name: proportion, dtype: float64"
      ]
     },
     "execution_count": 22,
     "metadata": {},
     "output_type": "execute_result"
    }
   ],
   "source": [
    "# print(df_bc.describe())\n",
    "print(df_bc.shape)\n",
    "df_bc.groupby('target').size()\n",
    "df_bc.value_counts(subset='target',normalize=True)"
   ]
  },
  {
   "cell_type": "code",
   "execution_count": 12,
   "id": "0561afff",
   "metadata": {},
   "outputs": [
    {
     "data": {
      "text/plain": [
       "<Axes: xlabel='count', ylabel='target'>"
      ]
     },
     "execution_count": 12,
     "metadata": {},
     "output_type": "execute_result"
    },
    {
     "data": {
      "image/png": "[encoded data removed]",
      "text/plain": [
       "<Figure size 640x480 with 1 Axes>"
      ]
     },
     "metadata": {},
     "output_type": "display_data"
    }
   ],
   "source": [
    "import seaborn as sns\n",
    "# 1st graph\n",
    "sns.countplot(df_bc['target'])"
   ]
  },
  {
   "cell_type": "code",
   "execution_count": 23,
   "id": "3ba7e934",
   "metadata": {},
   "outputs": [],
   "source": [
    "# split the dataset into 80% train, 20%test\n",
    "X = df_bc.drop(columns='target')\n",
    "y = df_bc['target']\n",
    "SEED = 2025\n",
    "X_train,X_test,y_train,y_test = train_test_split(X,y,\n",
    "                                                 test_size=0.2,\n",
    "                                                 stratify=y,\n",
    "                                                 random_state=SEED)"
   ]
  },
  {
   "cell_type": "code",
   "execution_count": 32,
   "id": "9fda652a",
   "metadata": {},
   "outputs": [
    {
     "name": "stdout",
     "output_type": "stream",
     "text": [
      "target\n",
      "1    285\n",
      "0    170\n",
      "Name: count, dtype: int64\n",
      "target\n",
      "1    72\n",
      "0    42\n",
      "Name: count, dtype: int64\n"
     ]
    }
   ],
   "source": [
    "print(y_train.value_counts(normalize=False))\n",
    "print(y_test.value_counts(normalize=False))\n"
   ]
  },
  {
   "cell_type": "code",
   "execution_count": 36,
   "id": "20067e8d",
   "metadata": {},
   "outputs": [],
   "source": [
    "# Instantiate DecisionTree (dt)\n",
    "dt = DecisionTreeClassifier(criterion='gini',\n",
    "                            max_depth=2,\n",
    "                             random_state= 1)"
   ]
  },
  {
   "cell_type": "code",
   "execution_count": 37,
   "id": "93e7b469",
   "metadata": {},
   "outputs": [
    {
     "data": {
      "text/plain": [
       "0.9298245614035088"
      ]
     },
     "execution_count": 37,
     "metadata": {},
     "output_type": "execute_result"
    }
   ],
   "source": [
    "# Fit dt to the training set\n",
    "dt.fit(X_train,y_train) #  Aquí el modelo se entrena y \"queda listo\"\n",
    "# Predict the best set labels\n",
    "y_pred = dt.predict(X_test)\n",
    "# Evaluate the test.set accuracy\n",
    "accuracy_score(y_test, y_pred)"
   ]
  },
  {
   "cell_type": "markdown",
   "id": "1e6aa444",
   "metadata": {},
   "source": [
    "Ver modelos_data_credito2.ipynb para convertir a cetgorico un varias variables por medio del for\n",
    "tambien te enseñanm a imputar"
   ]
  }
 ],
 "metadata": {
  "kernelspec": {
   "display_name": "Python 3",
   "language": "python",
   "name": "python3"
  },
  "language_info": {
   "codemirror_mode": {
    "name": "ipython",
    "version": 3
   },
   "file_extension": ".py",
   "mimetype": "text/x-python",
   "name": "python",
   "nbconvert_exporter": "python",
   "pygments_lexer": "ipython3",
   "version": "3.13.2"
  }
 },
 "nbformat": 4,
 "nbformat_minor": 5
}
