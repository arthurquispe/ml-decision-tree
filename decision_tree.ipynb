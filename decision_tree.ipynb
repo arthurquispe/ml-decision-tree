{
 "cells": [
  {
   "cell_type": "markdown",
   "id": "bb2edb14",
   "metadata": {},
   "source": [
    "# Decision Tree"
   ]
  },
  {
   "cell_type": "code",
   "execution_count": 7,
   "id": "74543945",
   "metadata": {},
   "outputs": [],
   "source": [
    "# import sklearn\n",
    "from sklearn.tree import DecisionTreeClassifier\n",
    "from sklearn.datasets import load_breast_cancer # load...\n",
    "from sklearn.metrics import accuracy_score\n",
    "from sklearn.model_selection import train_test_split,  cross_validate\n",
    "# import pandas\n",
    "import pandas as pd"
   ]
  },
  {
   "cell_type": "code",
   "execution_count": null,
   "id": "cbcb392f",
   "metadata": {},
   "outputs": [],
   "source": [
    "from sklearn import datasets\n",
    "dir(datasets)"
   ]
  },
  {
   "cell_type": "code",
   "execution_count": null,
   "metadata": {},
   "outputs": [
    {
     "name": "stdout",
     "output_type": "stream",
     "text": [
      "['mean radius' 'mean texture' 'mean perimeter' 'mean area'\n",
      " 'mean smoothness' 'mean compactness' 'mean concavity'\n",
      " 'mean concave points' 'mean symmetry' 'mean fractal dimension'\n",
      " 'radius error' 'texture error' 'perimeter error' 'area error'\n",
      " 'smoothness error' 'compactness error' 'concavity error'\n",
      " 'concave points error' 'symmetry error' 'fractal dimension error'\n",
      " 'worst radius' 'worst texture' 'worst perimeter' 'worst area'\n",
      " 'worst smoothness' 'worst compactness' 'worst concavity'\n",
      " 'worst concave points' 'worst symmetry' 'worst fractal dimension']\n",
      "['malignant' 'benign']\n"
     ]
    }
   ],
   "source": [
    "bc = load_breast_cancer(as_frame=True)\n",
    "# print(bc.DESCR) (Nombre de las variables)\n",
    "print(bc.feature_names)\n",
    "# Ver los nombres de las clases (0,1)\n",
    "print(bc.target_names) # 0 malignant 1 benignprint(bc.target_names) # 0 malignant 1 benign\n",
    "# Convvert to dataframe\n",
    "df_bc = pd.DataFrame(data=bc.data)\n",
    "df_bc['target'] = bc.target\n",
    "# convert to categorical\n",
    "df_bc['target'] = pd.Categorical(df_bc['target'],categories=[0,1],ordered=True )"
   ]
  },
  {
   "cell_type": "code",
   "execution_count": null,
   "id": "ce90ea37",
   "metadata": {},
   "outputs": [
    {
     "name": "stdout",
     "output_type": "stream",
     "text": [
      "   mean radius  mean texture  ...  worst fractal dimension  target\n",
      "0        17.99         10.38  ...                  0.11890       0\n",
      "1        20.57         17.77  ...                  0.08902       0\n",
      "2        19.69         21.25  ...                  0.08758       0\n",
      "3        11.42         20.38  ...                  0.17300       0\n",
      "4        20.29         14.34  ...                  0.07678       0\n",
      "\n",
      "[5 rows x 31 columns]\n",
      "<class 'pandas.core.frame.DataFrame'>\n",
      "RangeIndex: 569 entries, 0 to 568\n",
      "Data columns (total 31 columns):\n",
      " #   Column                   Non-Null Count  Dtype   \n",
      "---  ------                   --------------  -----   \n",
      " 0   mean radius              569 non-null    float64 \n",
      " 1   mean texture             569 non-null    float64 \n",
      " 2   mean perimeter           569 non-null    float64 \n",
      " 3   mean area                569 non-null    float64 \n",
      " 4   mean smoothness          569 non-null    float64 \n",
      " 5   mean compactness         569 non-null    float64 \n",
      " 6   mean concavity           569 non-null    float64 \n",
      " 7   mean concave points      569 non-null    float64 \n",
      " 8   mean symmetry            569 non-null    float64 \n",
      " 9   mean fractal dimension   569 non-null    float64 \n",
      " 10  radius error             569 non-null    float64 \n",
      " 11  texture error            569 non-null    float64 \n",
      " 12  perimeter error          569 non-null    float64 \n",
      " 13  area error               569 non-null    float64 \n",
      " 14  smoothness error         569 non-null    float64 \n",
      " 15  compactness error        569 non-null    float64 \n",
      " 16  concavity error          569 non-null    float64 \n",
      " 17  concave points error     569 non-null    float64 \n",
      " 18  symmetry error           569 non-null    float64 \n",
      " 19  fractal dimension error  569 non-null    float64 \n",
      " 20  worst radius             569 non-null    float64 \n",
      " 21  worst texture            569 non-null    float64 \n",
      " 22  worst perimeter          569 non-null    float64 \n",
      " 23  worst area               569 non-null    float64 \n",
      " 24  worst smoothness         569 non-null    float64 \n",
      " 25  worst compactness        569 non-null    float64 \n",
      " 26  worst concavity          569 non-null    float64 \n",
      " 27  worst concave points     569 non-null    float64 \n",
      " 28  worst symmetry           569 non-null    float64 \n",
      " 29  worst fractal dimension  569 non-null    float64 \n",
      " 30  target                   569 non-null    category\n",
      "dtypes: category(1), float64(30)\n",
      "memory usage: 134.2 KB\n",
      "None\n"
     ]
    }
   ],
   "source": [
    "print(df_bc.head())\n",
    "print(df_bc.info())"
   ]
  },
  {
   "cell_type": "code",
   "execution_count": 31,
   "id": "6b724601",
   "metadata": {},
   "outputs": [
    {
     "name": "stdout",
     "output_type": "stream",
     "text": [
      "       mean radius  mean texture  ...  worst symmetry  worst fractal dimension\n",
      "count   569.000000    569.000000  ...      569.000000               569.000000\n",
      "mean     14.127292     19.289649  ...        0.290076                 0.083946\n",
      "std       3.524049      4.301036  ...        0.061867                 0.018061\n",
      "min       6.981000      9.710000  ...        0.156500                 0.055040\n",
      "25%      11.700000     16.170000  ...        0.250400                 0.071460\n",
      "50%      13.370000     18.840000  ...        0.282200                 0.080040\n",
      "75%      15.780000     21.800000  ...        0.317900                 0.092080\n",
      "max      28.110000     39.280000  ...        0.663800                 0.207500\n",
      "\n",
      "[8 rows x 30 columns]\n",
      "(569, 31)\n"
     ]
    }
   ],
   "source": [
    "print(df_bc.describe())\n",
    "print(df_bc.shape)"
   ]
  },
  {
   "cell_type": "code",
   "execution_count": 35,
   "id": "3ba7e934",
   "metadata": {},
   "outputs": [],
   "source": [
    "# split the dataset into 80% train, 20%test\n",
    "X = df_bc.drop(columns='target')\n",
    "y = df_bc['target']\n",
    "SEED = 2025\n",
    "X_train,X_test,y_train,y_test = train_test_split(X,y,\n",
    "                                                 test_size=0.2,\n",
    "                                                 stratify=y,\n",
    "                                                 random_state=SEED)"
   ]
  },
  {
   "cell_type": "code",
   "execution_count": 36,
   "id": "20067e8d",
   "metadata": {},
   "outputs": [],
   "source": [
    "# Instantiate DecisionTree (dt)\n",
    "dt = DecisionTreeClassifier(criterion='gini',\n",
    "                            max_depth=2,\n",
    "                             random_state= 1)"
   ]
  },
  {
   "cell_type": "code",
   "execution_count": 37,
   "id": "93e7b469",
   "metadata": {},
   "outputs": [
    {
     "data": {
      "text/plain": [
       "0.9298245614035088"
      ]
     },
     "execution_count": 37,
     "metadata": {},
     "output_type": "execute_result"
    }
   ],
   "source": [
    "# Fit dt to the training set\n",
    "dt.fit(X_train,y_train) #  Aquí el modelo se entrena y \"queda listo\"\n",
    "# Predict the best set labels\n",
    "y_pred = dt.predict(X_test)\n",
    "# Evaluate the test.set accuracy\n",
    "accuracy_score(y_test, y_pred)"
   ]
  },
  {
   "cell_type": "markdown",
   "id": "1e6aa444",
   "metadata": {},
   "source": [
    "Ver modelos_data_credito2.ipynb para convertir a cetgorico un varias variables por medio del for\n",
    "tambien te enseñanm a imputar"
   ]
  }
 ],
 "metadata": {
  "kernelspec": {
   "display_name": "Python 3",
   "language": "python",
   "name": "python3"
  },
  "language_info": {
   "codemirror_mode": {
    "name": "ipython",
    "version": 3
   },
   "file_extension": ".py",
   "mimetype": "text/x-python",
   "name": "python",
   "nbconvert_exporter": "python",
   "pygments_lexer": "ipython3",
   "version": "3.13.2"
  }
 },
 "nbformat": 4,
 "nbformat_minor": 5
}
